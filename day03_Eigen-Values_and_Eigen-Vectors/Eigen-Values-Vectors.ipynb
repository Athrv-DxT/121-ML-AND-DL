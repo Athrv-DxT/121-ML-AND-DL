{
 "cells": [
  {
   "cell_type": "markdown",
   "id": "a59158a1",
   "metadata": {},
   "source": [
    "## Eigen Values and Eigen Vectors"
   ]
  },
  {
   "cell_type": "code",
   "execution_count": 8,
   "id": "1d1fd86a",
   "metadata": {},
   "outputs": [],
   "source": [
    "import numpy as np"
   ]
  },
  {
   "cell_type": "code",
   "execution_count": 9,
   "id": "cea29fb8",
   "metadata": {},
   "outputs": [
    {
     "name": "stdout",
     "output_type": "stream",
     "text": [
      "Eigenvalues: [5. 2.]\n",
      "\n",
      "Eigenvectors: [[ 0.89442719 -0.70710678]\n",
      " [ 0.4472136   0.70710678]]\n",
      "\n",
      "Check 1:  True\n",
      "Check 2:  True\n"
     ]
    }
   ],
   "source": [
    "\"\"\" \n",
    "For a square matrix 𝐴, an eigenvector v and its eigenvalue λ satisfy: \n",
    "\n",
    "                𝐴v = λv\n",
    "                \n",
    "v shows the direction that doesn’t change under the transformation 𝐴.\n",
    "\n",
    "λ shows how much the vector v is stretched or shrunk.\n",
    "\n",
    "\"\"\"\n",
    "\n",
    "A = np.array([[4, 2],\n",
    "              [1, 3]])\n",
    "\n",
    "eig_vals, eig_vecs = np.linalg.eig(A)\n",
    "print(\"Eigenvalues:\", eig_vals)\n",
    "print()\n",
    "print(\"Eigenvectors:\", eig_vecs)\n",
    "print()\n",
    "\n",
    "# Verify A v = λ v for each eigenvector\n",
    "for i in range(len(eig_vals)):\n",
    "    lhs = A @ eig_vecs[:, i]\n",
    "    rhs = eig_vals[i] * eig_vecs[:, i]\n",
    "    print(f\"Check {i+1}: \", np.allclose(lhs, rhs))\n"
   ]
  },
  {
   "cell_type": "markdown",
   "id": "ae7a5c03",
   "metadata": {},
   "source": [
    "## Spectral Theory Basics"
   ]
  },
  {
   "cell_type": "code",
   "execution_count": 10,
   "id": "6977fe77",
   "metadata": {},
   "outputs": [
    {
     "name": "stdout",
     "output_type": "stream",
     "text": [
      "Original matrix A:\n",
      " [[2 1]\n",
      " [1 2]]\n",
      "\n",
      "Eigenvalues: [1. 3.]\n",
      "\n",
      "Eigenvectors:\n",
      " [[-0.70710678  0.70710678]\n",
      " [ 0.70710678  0.70710678]]\n",
      "\n",
      "Reconstructed A:\n",
      " [[2. 1.]\n",
      " [1. 2.]]\n"
     ]
    }
   ],
   "source": [
    "\"\"\"\n",
    "Any symmetric matrix A can be decomposed as: \n",
    "\n",
    "                A=QΛQ^T\n",
    "                \n",
    "Where :\n",
    "-> Q is an orthogonal matrix whose columns are the eigenvectors of A, \n",
    "-> Λ is a diagonal matrix with the eigenvalues of A on the diagonal.\n",
    "\n",
    "\"\"\"\n",
    "\n",
    "# Spectral decomposition (only works for symmetric matrices)\n",
    "A_symmetric = np.array([[2, 1],\n",
    "                        [1, 2]])\n",
    "\n",
    "eigenvalues, eigenvectors = np.linalg.eigh(A_symmetric)\n",
    "\n",
    "# Reconstruct A using spectral theorem\n",
    "A_reconstructed = eigenvectors @ np.diag(eigenvalues) @ eigenvectors.T\n",
    "\n",
    "print(\"Original matrix A:\\n\", A_symmetric)\n",
    "print()\n",
    "print(\"Eigenvalues:\", eigenvalues)\n",
    "print()\n",
    "print(\"Eigenvectors:\\n\", eigenvectors)\n",
    "print()\n",
    "print(\"Reconstructed A:\\n\", A_reconstructed)\n"
   ]
  },
  {
   "cell_type": "markdown",
   "id": "58954ea2",
   "metadata": {},
   "source": [
    "## PCA (Principal Component Analysis) Basics"
   ]
  },
  {
   "cell_type": "markdown",
   "id": "b111e025",
   "metadata": {},
   "source": [
    "PCA reduces data dimensions using eigenvalues & eigenvectors of the covariance matrix.\n",
    "\n",
    "Steps :\n",
    "\n",
    "* Standardize data\n",
    "\n",
    "* Compute covariance matrix\n",
    "\n",
    "* Find eigenvalues & eigenvectors\n",
    "\n",
    "* Select top eigenvectors → principal components"
   ]
  },
  {
   "cell_type": "code",
   "execution_count": 11,
   "id": "defd22fa",
   "metadata": {},
   "outputs": [
    {
     "name": "stdout",
     "output_type": "stream",
     "text": [
      "Covariance Matrix:\n",
      " [[0.61655556 0.61544444]\n",
      " [0.61544444 0.71655556]]\n",
      "\n",
      "Eigenvalues:\n",
      " [0.0490834  1.28402771]\n",
      "\n",
      "Principal Components (Eigenvectors):\n",
      " [[-0.6778734  -0.73517866]\n",
      " [-0.73517866  0.6778734 ]]\n",
      "\n",
      "Data after PCA:\n",
      " [[-0.82797019 -0.17511531]\n",
      " [ 1.77758033  0.14285723]\n",
      " [-0.99219749  0.38437499]\n",
      " [-0.27421042  0.13041721]\n",
      " [-1.67580142 -0.20949846]\n",
      " [-0.9129491   0.17528244]\n",
      " [ 0.09910944 -0.3498247 ]\n",
      " [ 1.14457216  0.04641726]\n",
      " [ 0.43804614  0.01776463]\n",
      " [ 1.22382056 -0.16267529]]\n"
     ]
    }
   ],
   "source": [
    "X = np.array([[2.5, 2.4],\n",
    "              [0.5, 0.7],\n",
    "              [2.2, 2.9],\n",
    "              [1.9, 2.2],\n",
    "              [3.1, 3.0],\n",
    "              [2.3, 2.7],\n",
    "              [2, 1.6],\n",
    "              [1, 1.1],\n",
    "              [1.5, 1.6],\n",
    "              [1.1, 0.9]])\n",
    "\n",
    "# Step 1: Standardize data\n",
    "\n",
    "X_meaned = X - np.mean(X, axis=0)\n",
    "\n",
    "# Step 2: Covariance matrix\n",
    "\n",
    "cov_mat = np.cov(X_meaned, rowvar=False)\n",
    "\n",
    "# Step 3: Eigenvalues & eigenvectors of covariance matrix\n",
    "\n",
    "eigenvalues, eigenvectors = np.linalg.eig(cov_mat)\n",
    "\n",
    "# Step 4: Sort eigenvalues in descending order\n",
    "\n",
    "sorted_indices = np.argsort(eigenvalues)[::-1]\n",
    "eigenvectors = eigenvectors[:, sorted_indices]\n",
    "\n",
    "# Step 5: Project data onto principal components\n",
    "\n",
    "X_pca = X_meaned @ eigenvectors[:, :2]  # Keep top 2 PC's\n",
    "\n",
    "print(\"Covariance Matrix:\\n\", cov_mat)\n",
    "print()\n",
    "print(\"Eigenvalues:\\n\", eigenvalues)\n",
    "print()\n",
    "print(\"Principal Components (Eigenvectors):\\n\", eigenvectors)\n",
    "print()\n",
    "print(\"Data after PCA:\\n\", X_pca)\n"
   ]
  },
  {
   "cell_type": "markdown",
   "id": "47cb04fe",
   "metadata": {},
   "source": [
    "# Visualisation of PCA and Eigen Vectors"
   ]
  },
  {
   "cell_type": "code",
   "execution_count": 13,
   "id": "66b0ebc3",
   "metadata": {},
   "outputs": [
    {
     "name": "stdout",
     "output_type": "stream",
     "text": [
      "Collecting matplotlib\n",
      "  Downloading matplotlib-3.10.6-cp311-cp311-win_amd64.whl.metadata (11 kB)\n",
      "Collecting contourpy>=1.0.1 (from matplotlib)\n",
      "  Downloading contourpy-1.3.3-cp311-cp311-win_amd64.whl.metadata (5.5 kB)\n",
      "Collecting cycler>=0.10 (from matplotlib)\n",
      "  Using cached cycler-0.12.1-py3-none-any.whl.metadata (3.8 kB)\n",
      "Collecting fonttools>=4.22.0 (from matplotlib)\n",
      "  Downloading fonttools-4.59.2-cp311-cp311-win_amd64.whl.metadata (111 kB)\n",
      "Collecting kiwisolver>=1.3.1 (from matplotlib)\n",
      "  Downloading kiwisolver-1.4.9-cp311-cp311-win_amd64.whl.metadata (6.4 kB)\n",
      "Requirement already satisfied: numpy>=1.23 in c:\\users\\asus\\appdata\\local\\packages\\pythonsoftwarefoundation.python.3.11_qbz5n2kfra8p0\\localcache\\local-packages\\python311\\site-packages (from matplotlib) (2.0.1)\n",
      "Requirement already satisfied: packaging>=20.0 in c:\\users\\asus\\appdata\\local\\packages\\pythonsoftwarefoundation.python.3.11_qbz5n2kfra8p0\\localcache\\local-packages\\python311\\site-packages (from matplotlib) (24.2)\n",
      "Requirement already satisfied: pillow>=8 in c:\\users\\asus\\appdata\\local\\packages\\pythonsoftwarefoundation.python.3.11_qbz5n2kfra8p0\\localcache\\local-packages\\python311\\site-packages (from matplotlib) (11.0.0)\n",
      "Collecting pyparsing>=2.3.1 (from matplotlib)\n",
      "  Downloading pyparsing-3.2.3-py3-none-any.whl.metadata (5.0 kB)\n",
      "Requirement already satisfied: python-dateutil>=2.7 in c:\\users\\asus\\appdata\\local\\packages\\pythonsoftwarefoundation.python.3.11_qbz5n2kfra8p0\\localcache\\local-packages\\python311\\site-packages (from matplotlib) (2.9.0.post0)\n",
      "Requirement already satisfied: six>=1.5 in c:\\users\\asus\\appdata\\local\\packages\\pythonsoftwarefoundation.python.3.11_qbz5n2kfra8p0\\localcache\\local-packages\\python311\\site-packages (from python-dateutil>=2.7->matplotlib) (1.16.0)\n",
      "Downloading matplotlib-3.10.6-cp311-cp311-win_amd64.whl (8.1 MB)\n",
      "   ---------------------------------------- 0.0/8.1 MB ? eta -:--:--\n",
      "   -- ------------------------------------- 0.5/8.1 MB 4.2 MB/s eta 0:00:02\n",
      "   --- ------------------------------------ 0.8/8.1 MB 3.4 MB/s eta 0:00:03\n",
      "   ----- ---------------------------------- 1.0/8.1 MB 2.1 MB/s eta 0:00:04\n",
      "   ------- -------------------------------- 1.6/8.1 MB 2.3 MB/s eta 0:00:03\n",
      "   ----------- ---------------------------- 2.4/8.1 MB 2.4 MB/s eta 0:00:03\n",
      "   ---------------- ----------------------- 3.4/8.1 MB 2.9 MB/s eta 0:00:02\n",
      "   --------------------- ------------------ 4.5/8.1 MB 3.1 MB/s eta 0:00:02\n",
      "   --------------------------- ------------ 5.5/8.1 MB 3.4 MB/s eta 0:00:01\n",
      "   ------------------------------- -------- 6.3/8.1 MB 3.4 MB/s eta 0:00:01\n",
      "   ---------------------------------- ----- 7.1/8.1 MB 3.5 MB/s eta 0:00:01\n",
      "   ------------------------------------ --- 7.3/8.1 MB 3.4 MB/s eta 0:00:01\n",
      "   -------------------------------------- - 7.9/8.1 MB 3.3 MB/s eta 0:00:01\n",
      "   ---------------------------------------- 8.1/8.1 MB 3.2 MB/s eta 0:00:00\n",
      "Downloading contourpy-1.3.3-cp311-cp311-win_amd64.whl (225 kB)\n",
      "Using cached cycler-0.12.1-py3-none-any.whl (8.3 kB)\n",
      "Downloading fonttools-4.59.2-cp311-cp311-win_amd64.whl (2.3 MB)\n",
      "   ---------------------------------------- 0.0/2.3 MB ? eta -:--:--\n",
      "   --------- ------------------------------ 0.5/2.3 MB 2.1 MB/s eta 0:00:01\n",
      "   ----------------------- ---------------- 1.3/2.3 MB 3.0 MB/s eta 0:00:01\n",
      "   ---------------------------------------- 2.3/2.3 MB 3.8 MB/s eta 0:00:00\n",
      "Downloading kiwisolver-1.4.9-cp311-cp311-win_amd64.whl (73 kB)\n",
      "Downloading pyparsing-3.2.3-py3-none-any.whl (111 kB)\n",
      "Installing collected packages: pyparsing, kiwisolver, fonttools, cycler, contourpy, matplotlib\n",
      "Successfully installed contourpy-1.3.3 cycler-0.12.1 fonttools-4.59.2 kiwisolver-1.4.9 matplotlib-3.10.6 pyparsing-3.2.3\n"
     ]
    },
    {
     "name": "stderr",
     "output_type": "stream",
     "text": [
      "\n",
      "[notice] A new release of pip is available: 24.3.1 -> 25.2\n",
      "[notice] To update, run: C:\\Users\\ASUS\\AppData\\Local\\Microsoft\\WindowsApps\\PythonSoftwareFoundation.Python.3.11_qbz5n2kfra8p0\\python.exe -m pip install --upgrade pip\n"
     ]
    }
   ],
   "source": [
    "!pip install matplotlib\n",
    "import matplotlib.pyplot as plt"
   ]
  },
  {
   "cell_type": "code",
   "execution_count": null,
   "id": "4edf9f66",
   "metadata": {},
   "outputs": [
    {
     "data": {
      "image/png": "[encoded data removed]",
      "text/plain": [
       "<Figure size 800x600 with 1 Axes>"
      ]
     },
     "metadata": {},
     "output_type": "display_data"
    },
    {
     "ename": "",
     "evalue": "",
     "output_type": "error",
     "traceback": [
      "\u001b[1;31mThe Kernel crashed while executing code in the current cell or a previous cell. \n",
      "\u001b[1;31mPlease review the code in the cell(s) to identify a possible cause of the failure. \n",
      "\u001b[1;31mClick <a href='https://aka.ms/vscodeJupyterKernelCrash'>here</a> for more info. \n",
      "\u001b[1;31mView Jupyter <a href='command:jupyter.viewOutput'>log</a> for further details."
     ]
    }
   ],
   "source": [
    "\n",
    "X = np.array([[2.5, 2.4],\n",
    "              [0.5, 0.7],\n",
    "              [2.2, 2.9],\n",
    "              [1.9, 2.2],\n",
    "              [3.1, 3.0],\n",
    "              [2.3, 2.7],\n",
    "              [2, 1.6],\n",
    "              [1, 1.1],\n",
    "              [1.5, 1.6],\n",
    "              [1.1, 0.9]])\n",
    "\n",
    "# Step 1: Mean-center the data\n",
    "\n",
    "X_meaned = X - np.mean(X, axis=0)\n",
    "\n",
    "# Step 2: Covariance matrix\n",
    "\n",
    "cov_mat = np.cov(X_meaned, rowvar=False)\n",
    "\n",
    "# Step 3: Eigenvalues & eigenvectors\n",
    "\n",
    "eigenvalues, eigenvectors = np.linalg.eig(cov_mat)\n",
    "\n",
    "# Sort by eigenvalues in descending order\n",
    "\n",
    "idx = np.argsort(eigenvalues)[::-1]\n",
    "eigenvalues = eigenvalues[idx]\n",
    "eigenvectors = eigenvectors[:, idx]\n",
    "\n",
    "# Step 4: Project data onto principal components (top 2)\n",
    "\n",
    "X_pca = X_meaned @ eigenvectors\n",
    "\n",
    "# Step 5: Plot original data\n",
    "\n",
    "plt.figure(figsize=(8,6))\n",
    "plt.scatter(X_meaned[:, 0], X_meaned[:, 1], alpha=0.6, label=\"Original Data\")\n",
    "\n",
    "# Plot eigenvectors (scaled for visualization)\n",
    "\n",
    "for i in range(len(eigenvalues)):\n",
    "    vec = eigenvectors[:, i]\n",
    "    plt.arrow(0, 0, vec[0]*2, vec[1]*2, \n",
    "              color='r', width=0.02, head_width=0.1, alpha=0.8,\n",
    "              label=f\"Eigenvector {i+1}\" if i==0 else None)\n",
    "\n",
    "# PCA axes projection (optional visualization)\n",
    "\n",
    "plt.scatter(X_pca[:,0], np.zeros_like(X_pca[:,0]), \n",
    "            color='g', alpha=0.5, label=\"Projected Data (PC1)\")\n",
    "\n",
    "plt.xlabel(\"X-axis (Mean Centered)\")\n",
    "plt.ylabel(\"Y-axis (Mean Centered)\")\n",
    "plt.title(\"Eigenvectors & PCA Visualization\")\n",
    "plt.legend()\n",
    "plt.grid(True)\n",
    "plt.axis('equal')\n",
    "plt.show()\n"
   ]
  }
 ],
 "metadata": {
  "kernelspec": {
   "display_name": "Python 3",
   "language": "python",
   "name": "python3"
  },
  "language_info": {
   "codemirror_mode": {
    "name": "ipython",
    "version": 3
   },
   "file_extension": ".py",
   "mimetype": "text/x-python",
   "name": "python",
   "nbconvert_exporter": "python",
   "pygments_lexer": "ipython3",
   "version": "3.11.9"
  }
 },
 "nbformat": 4,
 "nbformat_minor": 5
}
