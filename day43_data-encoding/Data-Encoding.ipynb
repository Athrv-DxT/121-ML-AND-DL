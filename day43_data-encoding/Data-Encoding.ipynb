{
 "cells": [
  {
   "cell_type": "markdown",
   "id": "02371b34",
   "metadata": {},
   "source": [
    "# Data Encoding"
   ]
  },
  {
   "cell_type": "code",
   "execution_count": 3,
   "id": "94ebfeb8",
   "metadata": {},
   "outputs": [
    {
     "name": "stdout",
     "output_type": "stream",
     "text": [
      "Collecting category_encoders\n",
      "  Downloading category_encoders-2.8.1-py3-none-any.whl.metadata (7.9 kB)\n",
      "Requirement already satisfied: numpy>=1.14.0 in c:\\users\\asus\\appdata\\local\\packages\\pythonsoftwarefoundation.python.3.11_qbz5n2kfra8p0\\localcache\\local-packages\\python311\\site-packages (from category_encoders) (2.0.1)\n",
      "Requirement already satisfied: pandas>=1.0.5 in c:\\users\\asus\\appdata\\local\\packages\\pythonsoftwarefoundation.python.3.11_qbz5n2kfra8p0\\localcache\\local-packages\\python311\\site-packages (from category_encoders) (2.2.2)\n",
      "Collecting patsy>=0.5.1 (from category_encoders)\n",
      "  Downloading patsy-1.0.1-py2.py3-none-any.whl.metadata (3.3 kB)\n",
      "Requirement already satisfied: scikit-learn>=1.6.0 in c:\\users\\asus\\appdata\\local\\packages\\pythonsoftwarefoundation.python.3.11_qbz5n2kfra8p0\\localcache\\local-packages\\python311\\site-packages (from category_encoders) (1.7.1)\n",
      "Requirement already satisfied: scipy>=1.0.0 in c:\\users\\asus\\appdata\\local\\packages\\pythonsoftwarefoundation.python.3.11_qbz5n2kfra8p0\\localcache\\local-packages\\python311\\site-packages (from category_encoders) (1.16.1)\n",
      "Collecting statsmodels>=0.9.0 (from category_encoders)\n",
      "  Downloading statsmodels-0.14.5-cp311-cp311-win_amd64.whl.metadata (9.8 kB)\n",
      "Requirement already satisfied: python-dateutil>=2.8.2 in c:\\users\\asus\\appdata\\local\\packages\\pythonsoftwarefoundation.python.3.11_qbz5n2kfra8p0\\localcache\\local-packages\\python311\\site-packages (from pandas>=1.0.5->category_encoders) (2.9.0.post0)\n",
      "Requirement already satisfied: pytz>=2020.1 in c:\\users\\asus\\appdata\\local\\packages\\pythonsoftwarefoundation.python.3.11_qbz5n2kfra8p0\\localcache\\local-packages\\python311\\site-packages (from pandas>=1.0.5->category_encoders) (2024.1)\n",
      "Requirement already satisfied: tzdata>=2022.7 in c:\\users\\asus\\appdata\\local\\packages\\pythonsoftwarefoundation.python.3.11_qbz5n2kfra8p0\\localcache\\local-packages\\python311\\site-packages (from pandas>=1.0.5->category_encoders) (2024.1)\n",
      "Requirement already satisfied: joblib>=1.2.0 in c:\\users\\asus\\appdata\\local\\packages\\pythonsoftwarefoundation.python.3.11_qbz5n2kfra8p0\\localcache\\local-packages\\python311\\site-packages (from scikit-learn>=1.6.0->category_encoders) (1.5.2)\n",
      "Requirement already satisfied: threadpoolctl>=3.1.0 in c:\\users\\asus\\appdata\\local\\packages\\pythonsoftwarefoundation.python.3.11_qbz5n2kfra8p0\\localcache\\local-packages\\python311\\site-packages (from scikit-learn>=1.6.0->category_encoders) (3.6.0)\n",
      "Requirement already satisfied: packaging>=21.3 in c:\\users\\asus\\appdata\\local\\packages\\pythonsoftwarefoundation.python.3.11_qbz5n2kfra8p0\\localcache\\local-packages\\python311\\site-packages (from statsmodels>=0.9.0->category_encoders) (24.2)\n",
      "Requirement already satisfied: six>=1.5 in c:\\users\\asus\\appdata\\local\\packages\\pythonsoftwarefoundation.python.3.11_qbz5n2kfra8p0\\localcache\\local-packages\\python311\\site-packages (from python-dateutil>=2.8.2->pandas>=1.0.5->category_encoders) (1.16.0)\n",
      "Downloading category_encoders-2.8.1-py3-none-any.whl (85 kB)\n",
      "Downloading patsy-1.0.1-py2.py3-none-any.whl (232 kB)\n",
      "Downloading statsmodels-0.14.5-cp311-cp311-win_amd64.whl (9.6 MB)\n",
      "   ---------------------------------------- 0.0/9.6 MB ? eta -:--:--\n",
      "   ---------------------------------------- 0.0/9.6 MB ? eta -:--:--\n",
      "   ---------------------------------------- 0.0/9.6 MB ? eta -:--:--\n",
      "   - -------------------------------------- 0.3/9.6 MB ? eta -:--:--\n",
      "   --- ------------------------------------ 0.8/9.6 MB 1.6 MB/s eta 0:00:06\n",
      "   ----- ---------------------------------- 1.3/9.6 MB 1.9 MB/s eta 0:00:05\n",
      "   ------ --------------------------------- 1.6/9.6 MB 2.0 MB/s eta 0:00:05\n",
      "   -------- ------------------------------- 2.1/9.6 MB 2.0 MB/s eta 0:00:04\n",
      "   ---------- ----------------------------- 2.6/9.6 MB 2.0 MB/s eta 0:00:04\n",
      "   ------------- -------------------------- 3.1/9.6 MB 2.0 MB/s eta 0:00:04\n",
      "   -------------- ------------------------- 3.4/9.6 MB 2.1 MB/s eta 0:00:04\n",
      "   --------------- ------------------------ 3.7/9.6 MB 2.0 MB/s eta 0:00:03\n",
      "   ---------------- ----------------------- 3.9/9.6 MB 1.9 MB/s eta 0:00:04\n",
      "   ------------------ --------------------- 4.5/9.6 MB 2.0 MB/s eta 0:00:03\n",
      "   ------------------- -------------------- 4.7/9.6 MB 1.8 MB/s eta 0:00:03\n",
      "   -------------------- ------------------- 5.0/9.6 MB 1.8 MB/s eta 0:00:03\n",
      "   --------------------- ------------------ 5.2/9.6 MB 1.7 MB/s eta 0:00:03\n",
      "   ---------------------- ----------------- 5.5/9.6 MB 1.7 MB/s eta 0:00:03\n",
      "   ----------------------- ---------------- 5.8/9.6 MB 1.7 MB/s eta 0:00:03\n",
      "   ------------------------- -------------- 6.0/9.6 MB 1.6 MB/s eta 0:00:03\n",
      "   -------------------------- ------------- 6.3/9.6 MB 1.6 MB/s eta 0:00:03\n",
      "   --------------------------- ------------ 6.6/9.6 MB 1.6 MB/s eta 0:00:02\n",
      "   ---------------------------- ----------- 6.8/9.6 MB 1.6 MB/s eta 0:00:02\n",
      "   ----------------------------- ---------- 7.1/9.6 MB 1.6 MB/s eta 0:00:02\n",
      "   ------------------------------- -------- 7.6/9.6 MB 1.6 MB/s eta 0:00:02\n",
      "   -------------------------------- ------- 7.9/9.6 MB 1.6 MB/s eta 0:00:02\n",
      "   --------------------------------- ------ 8.1/9.6 MB 1.6 MB/s eta 0:00:01\n",
      "   ---------------------------------- ----- 8.4/9.6 MB 1.6 MB/s eta 0:00:01\n",
      "   ----------------------------------- ---- 8.7/9.6 MB 1.6 MB/s eta 0:00:01\n",
      "   -------------------------------------- - 9.2/9.6 MB 1.6 MB/s eta 0:00:01\n",
      "   ---------------------------------------  9.4/9.6 MB 1.6 MB/s eta 0:00:01\n",
      "   ---------------------------------------- 9.6/9.6 MB 1.6 MB/s eta 0:00:00\n",
      "Installing collected packages: patsy, statsmodels, category_encoders\n",
      "Successfully installed category_encoders-2.8.1 patsy-1.0.1 statsmodels-0.14.5\n"
     ]
    },
    {
     "name": "stderr",
     "output_type": "stream",
     "text": [
      "\n",
      "[notice] A new release of pip is available: 24.3.1 -> 25.2\n",
      "[notice] To update, run: C:\\Users\\ASUS\\AppData\\Local\\Microsoft\\WindowsApps\\PythonSoftwareFoundation.Python.3.11_qbz5n2kfra8p0\\python.exe -m pip install --upgrade pip\n"
     ]
    }
   ],
   "source": [
    "!pip install category_encoders"
   ]
  },
  {
   "cell_type": "code",
   "execution_count": 4,
   "id": "719b9403",
   "metadata": {},
   "outputs": [],
   "source": [
    "import pandas as pd\n",
    "import seaborn as sns\n",
    "from sklearn.preprocessing import LabelEncoder, OneHotEncoder, OrdinalEncoder\n",
    "from category_encoders import TargetEncoder\n",
    "from sklearn.model_selection import train_test_split"
   ]
  },
  {
   "cell_type": "code",
   "execution_count": 5,
   "id": "dd054a30",
   "metadata": {},
   "outputs": [
    {
     "name": "stdout",
     "output_type": "stream",
     "text": [
      "Dataset Shape: (889, 4)\n",
      "      sex   class embarked  survived\n",
      "0    male   Third        S         0\n",
      "1  female   First        C         1\n",
      "2  female   Third        S         1\n",
      "3  female   First        S         1\n",
      "4    male   Third        S         0\n",
      "5    male   Third        Q         0\n",
      "6    male   First        S         0\n",
      "7    male   Third        S         0\n",
      "8  female   Third        S         1\n",
      "9  female  Second        C         1\n"
     ]
    }
   ],
   "source": [
    "data = sns.load_dataset(\"titanic\")[['sex', 'class', 'embarked', 'survived']].dropna()\n",
    "print(\"Dataset Shape:\", data.shape)\n",
    "print(data.head(10))"
   ]
  },
  {
   "cell_type": "markdown",
   "id": "37629395",
   "metadata": {},
   "source": [
    "## Label Encoding"
   ]
  },
  {
   "cell_type": "code",
   "execution_count": 6,
   "id": "f814ecbe",
   "metadata": {},
   "outputs": [
    {
     "name": "stdout",
     "output_type": "stream",
     "text": [
      "Label Encoded 'sex':\n",
      "      sex  sex_label\n",
      "0    male          1\n",
      "1  female          0\n",
      "2  female          0\n",
      "3  female          0\n",
      "4    male          1\n"
     ]
    }
   ],
   "source": [
    "le = LabelEncoder()\n",
    "data['sex_label'] = le.fit_transform(data['sex'])\n",
    "print(\"Label Encoded 'sex':\")\n",
    "print(data[['sex', 'sex_label']].head())\n"
   ]
  },
  {
   "cell_type": "markdown",
   "id": "91530229",
   "metadata": {},
   "source": [
    "## One-Hot Encoding (for nominal categorical)"
   ]
  },
  {
   "cell_type": "code",
   "execution_count": 7,
   "id": "aa4551fa",
   "metadata": {},
   "outputs": [
    {
     "name": "stdout",
     "output_type": "stream",
     "text": [
      "\n",
      "One-Hot Encoded 'embarked':\n",
      "      sex  class embarked  survived  sex_label  embarked_C  embarked_Q  \\\n",
      "0    male  Third        S         0          1         0.0         0.0   \n",
      "1  female  First        C         1          0         1.0         0.0   \n",
      "2  female  Third        S         1          0         0.0         0.0   \n",
      "3  female  First        S         1          0         0.0         0.0   \n",
      "4    male  Third        S         0          1         0.0         0.0   \n",
      "\n",
      "   embarked_S  \n",
      "0         1.0  \n",
      "1         0.0  \n",
      "2         1.0  \n",
      "3         1.0  \n",
      "4         1.0  \n"
     ]
    }
   ],
   "source": [
    "ohe = OneHotEncoder(sparse_output=False)\n",
    "embarked_encoded = ohe.fit_transform(data[['embarked']])\n",
    "embarked_df = pd.DataFrame(embarked_encoded, columns=ohe.get_feature_names_out(['embarked']))\n",
    "data_ohe = pd.concat([data.reset_index(drop=True), embarked_df], axis=1)\n",
    "\n",
    "print(\"\\nOne-Hot Encoded 'embarked':\")\n",
    "print(data_ohe.head())\n"
   ]
  },
  {
   "cell_type": "markdown",
   "id": "2b0feff7",
   "metadata": {},
   "source": [
    "## Ordinal Encoding (for ordered categorical)"
   ]
  },
  {
   "cell_type": "code",
   "execution_count": 8,
   "id": "edefcc42",
   "metadata": {},
   "outputs": [
    {
     "name": "stdout",
     "output_type": "stream",
     "text": [
      "\n",
      "Ordinal Encoded 'class':\n",
      "   class  class_ordinal\n",
      "0  Third            0.0\n",
      "1  First            2.0\n",
      "2  Third            0.0\n",
      "3  First            2.0\n",
      "4  Third            0.0\n"
     ]
    }
   ],
   "source": [
    "class_order = ['Third', 'Second', 'First']\n",
    "ord_enc = OrdinalEncoder(categories=[class_order])\n",
    "data['class_ordinal'] = ord_enc.fit_transform(data[['class']])\n",
    "\n",
    "print(\"\\nOrdinal Encoded 'class':\")\n",
    "print(data[['class', 'class_ordinal']].head())\n"
   ]
  },
  {
   "cell_type": "markdown",
   "id": "19b27935",
   "metadata": {},
   "source": [
    "## Target Encoding"
   ]
  },
  {
   "cell_type": "code",
   "execution_count": 9,
   "id": "68b6d485",
   "metadata": {},
   "outputs": [
    {
     "name": "stdout",
     "output_type": "stream",
     "text": [
      "\n",
      "Target Encoded Data (Advanced Encoding):\n",
      "Train Encoded:\n",
      "      embarked     class\n",
      "486  0.339246  0.608107\n",
      "293  0.339246  0.247126\n",
      "173  0.339246  0.247126\n",
      "450  0.339246  0.507933\n",
      "361  0.572638  0.507933\n",
      "Test Encoded:\n",
      "      embarked     class\n",
      "281  0.339246  0.247126\n",
      "435  0.339246  0.608107\n",
      "39   0.572638  0.247126\n",
      "418  0.339246  0.507933\n",
      "585  0.339246  0.608107\n"
     ]
    }
   ],
   "source": [
    "X = data[['embarked', 'class']]\n",
    "y = data['survived']\n",
    "\n",
    "X_train, X_test, y_train, y_test = train_test_split(X, y, test_size=0.3, random_state=42)\n",
    "\n",
    "te = TargetEncoder()\n",
    "X_train_te = te.fit_transform(X_train, y_train)\n",
    "X_test_te = te.transform(X_test)\n",
    "\n",
    "print(\"\\nTarget Encoded Data (Advanced Encoding):\")\n",
    "print(\"Train Encoded:\\n\", X_train_te.head())\n",
    "print(\"Test Encoded:\\n\", X_test_te.head())\n"
   ]
  },
  {
   "cell_type": "markdown",
   "id": "142495af",
   "metadata": {},
   "source": [
    "## Compare all encodings"
   ]
  },
  {
   "cell_type": "code",
   "execution_count": 10,
   "id": "29b83eba",
   "metadata": {},
   "outputs": [
    {
     "name": "stdout",
     "output_type": "stream",
     "text": [
      "Final Encoded Dataset Columns:\n",
      "['sex', 'class', 'embarked', 'survived', 'sex_label', 'embarked_C', 'embarked_Q', 'embarked_S']\n"
     ]
    }
   ],
   "source": [
    "print(\"Final Encoded Dataset Columns:\")\n",
    "print(data_ohe.columns.tolist())"
   ]
  }
 ],
 "metadata": {
  "kernelspec": {
   "display_name": "Python 3",
   "language": "python",
   "name": "python3"
  },
  "language_info": {
   "codemirror_mode": {
    "name": "ipython",
    "version": 3
   },
   "file_extension": ".py",
   "mimetype": "text/x-python",
   "name": "python",
   "nbconvert_exporter": "python",
   "pygments_lexer": "ipython3",
   "version": "3.11.9"
  }
 },
 "nbformat": 4,
 "nbformat_minor": 5
}
