{
 "cells": [
  {
   "cell_type": "markdown",
   "id": "3384c8da",
   "metadata": {},
   "source": [
    "# Feature Scaling - Normlaization, Standardization"
   ]
  },
  {
   "cell_type": "code",
   "execution_count": 1,
   "id": "aa68aa52",
   "metadata": {},
   "outputs": [],
   "source": [
    "import pandas as pd\n",
    "import matplotlib.pyplot as plt\n",
    "import seaborn as sns\n",
    "from sklearn.datasets import load_wine\n",
    "from sklearn.preprocessing import MinMaxScaler, StandardScaler, RobustScaler"
   ]
  },
  {
   "cell_type": "code",
   "execution_count": 2,
   "id": "1c86c8c4",
   "metadata": {},
   "outputs": [],
   "source": [
    "wine = load_wine()\n",
    "X = pd.DataFrame(wine.data, columns=wine.feature_names)"
   ]
  },
  {
   "cell_type": "code",
   "execution_count": 8,
   "id": "a3bcb2e7",
   "metadata": {},
   "outputs": [
    {
     "name": "stdout",
     "output_type": "stream",
     "text": [
      "Original Data Sample:\n",
      "    alcohol  malic_acid   ash  alcalinity_of_ash  magnesium  total_phenols  \\\n",
      "0    14.23        1.71  2.43               15.6      127.0           2.80   \n",
      "1    13.20        1.78  2.14               11.2      100.0           2.65   \n",
      "2    13.16        2.36  2.67               18.6      101.0           2.80   \n",
      "3    14.37        1.95  2.50               16.8      113.0           3.85   \n",
      "4    13.24        2.59  2.87               21.0      118.0           2.80   \n",
      "5    14.20        1.76  2.45               15.2      112.0           3.27   \n",
      "6    14.39        1.87  2.45               14.6       96.0           2.50   \n",
      "7    14.06        2.15  2.61               17.6      121.0           2.60   \n",
      "8    14.83        1.64  2.17               14.0       97.0           2.80   \n",
      "9    13.86        1.35  2.27               16.0       98.0           2.98   \n",
      "\n",
      "   flavanoids  nonflavanoid_phenols  proanthocyanins  color_intensity   hue  \\\n",
      "0        3.06                  0.28             2.29             5.64  1.04   \n",
      "1        2.76                  0.26             1.28             4.38  1.05   \n",
      "2        3.24                  0.30             2.81             5.68  1.03   \n",
      "3        3.49                  0.24             2.18             7.80  0.86   \n",
      "4        2.69                  0.39             1.82             4.32  1.04   \n",
      "5        3.39                  0.34             1.97             6.75  1.05   \n",
      "6        2.52                  0.30             1.98             5.25  1.02   \n",
      "7        2.51                  0.31             1.25             5.05  1.06   \n",
      "8        2.98                  0.29             1.98             5.20  1.08   \n",
      "9        3.15                  0.22             1.85             7.22  1.01   \n",
      "\n",
      "   od280/od315_of_diluted_wines  proline  \n",
      "0                          3.92   1065.0  \n",
      "1                          3.40   1050.0  \n",
      "2                          3.17   1185.0  \n",
      "3                          3.45   1480.0  \n",
      "4                          2.93    735.0  \n",
      "5                          2.85   1450.0  \n",
      "6                          3.58   1290.0  \n",
      "7                          3.58   1295.0  \n",
      "8                          2.85   1045.0  \n",
      "9                          3.55   1045.0  \n"
     ]
    }
   ],
   "source": [
    "print(\"Original Data Sample:\\n\", X.head(10))"
   ]
  },
  {
   "cell_type": "markdown",
   "id": "90eeaf92",
   "metadata": {},
   "source": [
    "## Apply different scalers"
   ]
  },
  {
   "cell_type": "code",
   "execution_count": 9,
   "id": "a29e8287",
   "metadata": {},
   "outputs": [
    {
     "name": "stdout",
     "output_type": "stream",
     "text": [
      "\n",
      "Scaled Data Comparison:\n",
      "    Original    MinMax  Standardized  RobustScaled\n",
      "0     14.23  0.842105      1.518613      0.897338\n",
      "1     13.20  0.571053      0.246290      0.114068\n",
      "2     13.16  0.560526      0.196879      0.083650\n",
      "3     14.37  0.878947      1.691550      1.003802\n",
      "4     13.24  0.581579      0.295700      0.144487\n",
      "5     14.20  0.834211      1.481555      0.874525\n",
      "6     14.39  0.884211      1.716255      1.019011\n",
      "7     14.06  0.797368      1.308617      0.768061\n",
      "8     14.83  1.000000      2.259772      1.353612\n",
      "9     13.86  0.744737      1.061565      0.615970\n"
     ]
    }
   ],
   "source": [
    "minmax_scaler = MinMaxScaler()\n",
    "standard_scaler = StandardScaler()\n",
    "robust_scaler = RobustScaler()\n",
    "\n",
    "X_scaled = pd.DataFrame({\n",
    "    'Original': X['alcohol'],\n",
    "    'MinMax': minmax_scaler.fit_transform(X[['alcohol']]).flatten(),\n",
    "    'Standardized': standard_scaler.fit_transform(X[['alcohol']]).flatten(),\n",
    "    'RobustScaled': robust_scaler.fit_transform(X[['alcohol']]).flatten()\n",
    "})\n",
    "\n",
    "print(\"\\nScaled Data Comparison:\\n\", X_scaled.head(10))"
   ]
  },
  {
   "cell_type": "markdown",
   "id": "36fee4a3",
   "metadata": {},
   "source": [
    "## Visualization"
   ]
  },
  {
   "cell_type": "code",
   "execution_count": 10,
   "id": "6c46f821",
   "metadata": {},
   "outputs": [
    {
     "data": {
      "image/png": "[encoded data removed]",
      "text/plain": [
       "<Figure size 800x500 with 1 Axes>"
      ]
     },
     "metadata": {},
     "output_type": "display_data"
    }
   ],
   "source": [
    "plt.figure(figsize=(8,5))\n",
    "sns.boxplot(data=X_scaled)\n",
    "plt.title(\"Comparison of Feature Scaling Techniques (Alcohol Feature)\")\n",
    "plt.ylabel(\"Scaled Values\")\n",
    "plt.show()\n"
   ]
  }
 ],
 "metadata": {
  "kernelspec": {
   "display_name": "Python 3",
   "language": "python",
   "name": "python3"
  },
  "language_info": {
   "codemirror_mode": {
    "name": "ipython",
    "version": 3
   },
   "file_extension": ".py",
   "mimetype": "text/x-python",
   "name": "python",
   "nbconvert_exporter": "python",
   "pygments_lexer": "ipython3",
   "version": "3.11.9"
  }
 },
 "nbformat": 4,
 "nbformat_minor": 5
}
