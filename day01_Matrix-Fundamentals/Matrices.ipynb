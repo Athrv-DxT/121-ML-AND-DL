{
 "cells": [
  {
   "cell_type": "markdown",
   "id": "dc0d78dd-a4ac-48aa-94ee-25ba74d4fbb8",
   "metadata": {},
   "source": [
    "## Matrix Creation and Basic Operations"
   ]
  },
  {
   "cell_type": "code",
   "execution_count": 1,
   "id": "3cc44a85-2193-4348-97f7-566b06e95d97",
   "metadata": {},
   "outputs": [],
   "source": [
    "import numpy as np\n"
   ]
  },
  {
   "cell_type": "code",
   "execution_count": 3,
   "id": "25a733d6-c916-4153-a6b0-9626c9551b93",
   "metadata": {},
   "outputs": [],
   "source": [
    "A=np.array([[1,3,6],\n",
    "            [2,5,9],\n",
    "            [8,4,0]])\n",
    "\n",
    "B=np.array([[1,1,1],\n",
    "            [4,5,6],\n",
    "            [8,9,2]])\n",
    "\n",
    "\n",
    "\n",
    "            "
   ]
  },
  {
   "cell_type": "markdown",
   "id": "dd7f2f9b-0a89-4cfc-a625-92e6b5820758",
   "metadata": {},
   "source": [
    "* Basic Operations\n",
    "  "
   ]
  },
  {
   "cell_type": "code",
   "execution_count": 5,
   "id": "731459b6-7f65-4fca-8453-aca82369bc06",
   "metadata": {},
   "outputs": [
    {
     "name": "stdout",
     "output_type": "stream",
     "text": [
      "A+B =  [[ 2  4  7]\n",
      " [ 6 10 15]\n",
      " [16 13  2]]\n",
      "\n",
      "A-B =  [[ 0  2  5]\n",
      " [-2  0  3]\n",
      " [ 0 -5 -2]]\n",
      "\n",
      "A*B =  [[ 1  3  6]\n",
      " [ 8 25 54]\n",
      " [64 36  0]]\n",
      "\n",
      "A@B =  [[ 61  70  31]\n",
      " [ 94 108  50]\n",
      " [ 24  28  32]]\n",
      "\n"
     ]
    }
   ],
   "source": [
    "#addition\n",
    "\n",
    "print(\"A+B = \",A+B)\n",
    "print()\n",
    "\n",
    "#Subtraction\n",
    "print(\"A-B = \",A-B)\n",
    "print()\n",
    "\n",
    "#element-wise multiplication\n",
    "print(\"A*B = \", A*B)\n",
    "print()\n",
    "\n",
    "#Matrix Multiplication\n",
    "print(\"A@B = \",A@B)\n",
    "print()"
   ]
  },
  {
   "cell_type": "markdown",
   "id": "ff21fd10-c550-423f-9a6b-a0be65af63ef",
   "metadata": {},
   "source": [
    "* Matrix properties & Transformations"
   ]
  },
  {
   "cell_type": "code",
   "execution_count": 8,
   "id": "ab671675-15b1-4e41-8e82-75bf8864698d",
   "metadata": {},
   "outputs": [
    {
     "name": "stdout",
     "output_type": "stream",
     "text": [
      "Transpose of matrix A:  [[1 2 8]\n",
      " [3 5 4]\n",
      " [6 9 0]]\n",
      "\n",
      "Diagonal elements of B:  [1 5 2]\n",
      "\n",
      "Matrix with diagonal elements - (3,5,7,8):  [[3 0 0 0]\n",
      " [0 5 0 0]\n",
      " [0 0 7 0]\n",
      " [0 0 0 8]]\n",
      "\n"
     ]
    }
   ],
   "source": [
    "#Transpose of a matrix\n",
    "\n",
    "print(\"Transpose of matrix A: \", A.T)\n",
    "print()\n",
    "\n",
    "#Fetch diagonal elements of a matrix\n",
    "\n",
    "print(\"Diagonal elements of B: \", np.diag(B))\n",
    "print()\n",
    "\n",
    "#create a diagonal matrix\n",
    "\n",
    "print(\"Matrix with diagonal elements - (3,5,7,8): \", np.diag([3,5,7,8]))\n",
    "print()\n",
    "\n",
    "\n",
    "#Determinant of a matrix\n",
    "\n",
    "print(\"Determinant of Matrix A: \", np.linalg.det(A))\n",
    "print()\n",
    "\n",
    "#Inverse of a matrix\n",
    "\n",
    "print(\"Inverse of Matrix B: \",np.linalg.det(B))\n",
    "print()\n",
    "\n",
    "      "
   ]
  },
  {
   "cell_type": "markdown",
   "id": "b62880ab-c24e-43b7-ae91-0681a5c04d3d",
   "metadata": {},
   "source": [
    "* Linear Algebra Operations"
   ]
  },
  {
   "cell_type": "code",
   "execution_count": 10,
   "id": "6e6032da-87f1-4416-a474-ca0d1e27f950",
   "metadata": {},
   "outputs": [
    {
     "name": "stdout",
     "output_type": "stream",
     "text": [
      "Determinant of Matrix A:  -11.999999999999995\n",
      "\n",
      "Inverse of Matrix B:  -7.999999999999998\n",
      "\n",
      "Eigen Values :  [12.64630011  0.13982849 -6.78612861]\n",
      "\n",
      "Eigen Vectors of A :  [[-0.45323627 -0.42288024 -0.38884195]\n",
      " [-0.72649785  0.83331461 -0.51655364]\n",
      " [-0.51650534 -0.35603238  0.76287239]]\n"
     ]
    }
   ],
   "source": [
    "#Eigen Values and Eigen Vectors\n",
    "\n",
    "eigen_val, eigen_vect = np.linalg.eig(A)\n",
    "print(\"Eigen Values : \", eigen_val )\n",
    "print()\n",
    "print(\"Eigen Vectors of A : \",eigen_vect)\n"
   ]
  },
  {
   "cell_type": "markdown",
   "id": "92eff60e-97c0-4d9e-81bc-158f6c2fcd49",
   "metadata": {},
   "source": [
    "* Solving Linear Equations:\n",
    "\n",
    "  2x + 7y = 10 ; \n",
    "  3x + 5y = 20"
   ]
  },
  {
   "cell_type": "code",
   "execution_count": 12,
   "id": "ef8e2421-8724-4bde-a2f7-26308f8f9bb6",
   "metadata": {},
   "outputs": [
    {
     "name": "stdout",
     "output_type": "stream",
     "text": [
      "Solution :  [2.18181818 0.09090909]\n"
     ]
    }
   ],
   "source": [
    "#store coefficients\n",
    "coeffs = np.array([[2,7],\n",
    "                   [3,5]])\n",
    "\n",
    "#store constants\n",
    "const = np.array([5,7])\n",
    "\n",
    "print(\"Solution : \",np.linalg.solve(coeffs,const))\n",
    "\n"
   ]
  },
  {
   "cell_type": "markdown",
   "id": "59b872d1-e0b1-46c7-96d2-88d48f261c4d",
   "metadata": {},
   "source": [
    "* SVD (Singular Value Decomposition)"
   ]
  },
  {
   "cell_type": "code",
   "execution_count": 13,
   "id": "304597bf-feab-4660-b1c8-f2247c600661",
   "metadata": {},
   "outputs": [
    {
     "name": "stdout",
     "output_type": "stream",
     "text": [
      "Left Singular Vectors:  [[-0.49181979 -0.25163704 -0.8335419 ]\n",
      " [-0.77278537 -0.31490004  0.55103606]\n",
      " [-0.40114346  0.91515942 -0.03958735]]\n",
      "\n",
      "Diagonal Matrix of singular values:  [13.18610339  7.88120193  0.11547084]\n",
      "\n",
      "Right Singular Vectors:  [[-0.39788389 -0.52661198 -0.75124445]\n",
      " [ 0.81711373  0.1689116  -0.55117513]\n",
      " [-0.41714933  0.83315586 -0.36309467]]\n"
     ]
    }
   ],
   "source": [
    "U,S,V_transpose = np.linalg.svd(A)\n",
    "\n",
    "print(\"Left Singular Vectors: \", U)\n",
    "print()\n",
    "\n",
    "print(\"Diagonal Matrix of singular values: \",S)\n",
    "print()\n",
    "\n",
    "print(\"Right Singular Vectors: \",V_transpose)"
   ]
  },
  {
   "cell_type": "code",
   "execution_count": null,
   "id": "0654f085-5196-42e9-ad74-6b8f3a076fa0",
   "metadata": {},
   "outputs": [],
   "source": []
  }
 ],
 "metadata": {
  "kernelspec": {
   "display_name": "Python 3 (ipykernel)",
   "language": "python",
   "name": "python3"
  },
  "language_info": {
   "codemirror_mode": {
    "name": "ipython",
    "version": 3
   },
   "file_extension": ".py",
   "mimetype": "text/x-python",
   "name": "python",
   "nbconvert_exporter": "python",
   "pygments_lexer": "ipython3",
   "version": "3.12.6"
  }
 },
 "nbformat": 4,
 "nbformat_minor": 5
}
