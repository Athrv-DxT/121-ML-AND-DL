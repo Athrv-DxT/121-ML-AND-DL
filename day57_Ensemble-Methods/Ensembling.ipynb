{
 "cells": [
  {
   "cell_type": "markdown",
   "id": "044a23f0",
   "metadata": {},
   "source": [
    "# Ensemble Models – Stacking and Voting Classifiers"
   ]
  },
  {
   "cell_type": "code",
   "execution_count": 1,
   "id": "f08d8060",
   "metadata": {},
   "outputs": [],
   "source": [
    "from sklearn.datasets import load_iris\n",
    "from sklearn.model_selection import train_test_split\n",
    "from sklearn.preprocessing import StandardScaler\n",
    "from sklearn.linear_model import LogisticRegression\n",
    "from sklearn.ensemble import RandomForestClassifier, GradientBoostingClassifier, VotingClassifier, StackingClassifier\n",
    "from sklearn.metrics import accuracy_score\n"
   ]
  },
  {
   "cell_type": "code",
   "execution_count": 2,
   "id": "092f4810",
   "metadata": {},
   "outputs": [],
   "source": [
    "data = load_iris()\n",
    "X, y = data.data, data.target"
   ]
  },
  {
   "cell_type": "markdown",
   "id": "473af25c",
   "metadata": {},
   "source": [
    "## Train-Test Split"
   ]
  },
  {
   "cell_type": "code",
   "execution_count": 3,
   "id": "4d9ddfe6",
   "metadata": {},
   "outputs": [],
   "source": [
    "X_train, X_test, y_train, y_test = train_test_split(X, y, test_size=0.3, random_state=42, stratify=y)"
   ]
  },
  {
   "cell_type": "markdown",
   "id": "6a94d039",
   "metadata": {},
   "source": [
    "## Scaling"
   ]
  },
  {
   "cell_type": "code",
   "execution_count": 4,
   "id": "fe01de2c",
   "metadata": {},
   "outputs": [],
   "source": [
    "scaler = StandardScaler()\n",
    "X_train = scaler.fit_transform(X_train)\n",
    "X_test = scaler.transform(X_test)"
   ]
  },
  {
   "cell_type": "markdown",
   "id": "d024fb29",
   "metadata": {},
   "source": [
    "## Models"
   ]
  },
  {
   "cell_type": "code",
   "execution_count": 5,
   "id": "0bacde3e",
   "metadata": {},
   "outputs": [],
   "source": [
    "log_clf = LogisticRegression(random_state=42)\n",
    "rf_clf = RandomForestClassifier(n_estimators=100, random_state=42)\n",
    "gb_clf = GradientBoostingClassifier(random_state=42)"
   ]
  },
  {
   "cell_type": "markdown",
   "id": "1f5b45c8",
   "metadata": {},
   "source": [
    "## Voting"
   ]
  },
  {
   "cell_type": "code",
   "execution_count": 6,
   "id": "833fd6af",
   "metadata": {},
   "outputs": [
    {
     "name": "stdout",
     "output_type": "stream",
     "text": [
      "Voting Classifier Accuracy: 0.9333\n"
     ]
    }
   ],
   "source": [
    "voting_clf = VotingClassifier(\n",
    "    estimators=[('lr', log_clf), ('rf', rf_clf), ('gb', gb_clf)],\n",
    "    voting='soft'\n",
    ")\n",
    "\n",
    "voting_clf.fit(X_train, y_train)\n",
    "y_pred_voting = voting_clf.predict(X_test)\n",
    "voting_acc = accuracy_score(y_test, y_pred_voting)\n",
    "print(f\"Voting Classifier Accuracy: {voting_acc:.4f}\")"
   ]
  },
  {
   "cell_type": "markdown",
   "id": "1918fdc2",
   "metadata": {},
   "source": [
    "## Stackinng"
   ]
  },
  {
   "cell_type": "code",
   "execution_count": 7,
   "id": "21c13efb",
   "metadata": {},
   "outputs": [
    {
     "name": "stdout",
     "output_type": "stream",
     "text": [
      "Stacking Classifier Accuracy: 0.8889\n"
     ]
    }
   ],
   "source": [
    "estimators = [\n",
    "    ('lr', log_clf),\n",
    "    ('rf', rf_clf),\n",
    "    ('gb', gb_clf)\n",
    "]\n",
    "\n",
    "stacking_clf = StackingClassifier(\n",
    "    estimators=estimators,\n",
    "    final_estimator=LogisticRegression(),\n",
    "    passthrough=True\n",
    ")\n",
    "\n",
    "stacking_clf.fit(X_train, y_train)\n",
    "y_pred_stacking = stacking_clf.predict(X_test)\n",
    "stacking_acc = accuracy_score(y_test, y_pred_stacking)\n",
    "print(f\"Stacking Classifier Accuracy: {stacking_acc:.4f}\")"
   ]
  }
 ],
 "metadata": {
  "kernelspec": {
   "display_name": "Python 3",
   "language": "python",
   "name": "python3"
  },
  "language_info": {
   "codemirror_mode": {
    "name": "ipython",
    "version": 3
   },
   "file_extension": ".py",
   "mimetype": "text/x-python",
   "name": "python",
   "nbconvert_exporter": "python",
   "pygments_lexer": "ipython3",
   "version": "3.11.9"
  }
 },
 "nbformat": 4,
 "nbformat_minor": 5
}
