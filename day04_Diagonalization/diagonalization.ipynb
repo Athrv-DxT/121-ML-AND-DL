{
 "cells": [
  {
   "cell_type": "markdown",
   "id": "78d3d054",
   "metadata": {},
   "source": [
    "# Diagonalization "
   ]
  },
  {
   "cell_type": "markdown",
   "id": "7e94000e",
   "metadata": {},
   "source": [
    "## Conditions for diagonalization\n",
    "\n",
    "A matrix 'A' is diagonalizable if:\n",
    "\n",
    "    - It has n linearly independent eigenvectors.\n",
    "    - For each eigenvalue, algebraic multiplicity = geometric multiplicity.\n",
    "\n",
    "    If 'A' has n linearly independent eigenvectors:\n",
    "            \n",
    "                A=PDP**(−1)\n",
    "        \n",
    "        P = matrix of eigenvectors\n",
    "        D = diagonal matrix of eigenvalues\n",
    "        \n",
    "        So\n",
    "                P**(−1)AP=D"
   ]
  },
  {
   "cell_type": "code",
   "execution_count": 4,
   "id": "daea4049",
   "metadata": {},
   "outputs": [],
   "source": [
    "import numpy as np\n",
    "import matplotlib.pyplot as plt"
   ]
  },
  {
   "cell_type": "code",
   "execution_count": 3,
   "id": "8525f880",
   "metadata": {},
   "outputs": [
    {
     "name": "stdout",
     "output_type": "stream",
     "text": [
      "Eigenvalues: [5. 2.]\n",
      "\n",
      "Eigenvectors:\n",
      " [[ 0.70710678 -0.4472136 ]\n",
      " [ 0.70710678  0.89442719]]\n",
      "\n",
      "Diagonal Matrix D:\n",
      " [[5. 0.]\n",
      " [0. 2.]]\n",
      "\n",
      "Reconstructed A:\n",
      " [[4. 1.]\n",
      " [2. 3.]]\n"
     ]
    }
   ],
   "source": [
    "A = np.array([[4, 1],\n",
    "              [2, 3]])\n",
    "\n",
    "# Step 2: Eigen decomposition:\n",
    "\n",
    "eigenvalues, eigenvectors = np.linalg.eig(A)\n",
    "\n",
    "# Step 3: Form D and P\n",
    "\n",
    "D = np.diag(eigenvalues)\n",
    "P = eigenvectors\n",
    "\n",
    "# Step 4: Reconstruct A\n",
    "\n",
    "A_reconstructed = P @ D @ np.linalg.inv(P)\n",
    "\n",
    "print(\"Eigenvalues:\", eigenvalues)\n",
    "print()\n",
    "print(\"Eigenvectors:\\n\", eigenvectors)\n",
    "print()\n",
    "print(\"Diagonal Matrix D:\\n\", D)\n",
    "print()\n",
    "print(\"Reconstructed A:\\n\", A_reconstructed)\n"
   ]
  },
  {
   "cell_type": "markdown",
   "id": "df53c411",
   "metadata": {},
   "source": [
    "## Visualization of Eigen vectors\n"
   ]
  },
  {
   "cell_type": "code",
   "execution_count": 6,
   "id": "7e20d039",
   "metadata": {},
   "outputs": [
    {
     "data": {
      "image/png": "[encoded data removed]",
      "text/plain": [
       "<Figure size 640x480 with 1 Axes>"
      ]
     },
     "metadata": {},
     "output_type": "display_data"
    }
   ],
   "source": [
    "origin = np.zeros((2, 2))  # two origins at (0,0)\n",
    "plt.quiver(origin[0], origin[1],\n",
    "           eigenvectors[0, :], eigenvectors[1, :],\n",
    "           angles='xy', scale_units='xy', scale=1, color=['r','b'])\n",
    "\n",
    "plt.xlim(-1, 1.5)\n",
    "plt.ylim(-1, 1.5)\n",
    "plt.title(\"Eigenvectors of A\")\n",
    "plt.grid()\n",
    "plt.show()\n"
   ]
  }
 ],
 "metadata": {
  "kernelspec": {
   "display_name": "Python 3",
   "language": "python",
   "name": "python3"
  },
  "language_info": {
   "codemirror_mode": {
    "name": "ipython",
    "version": 3
   },
   "file_extension": ".py",
   "mimetype": "text/x-python",
   "name": "python",
   "nbconvert_exporter": "python",
   "pygments_lexer": "ipython3",
   "version": "3.11.9"
  }
 },
 "nbformat": 4,
 "nbformat_minor": 5
}
