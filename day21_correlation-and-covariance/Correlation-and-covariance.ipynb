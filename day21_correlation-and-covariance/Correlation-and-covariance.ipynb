{
 "cells": [
  {
   "cell_type": "markdown",
   "id": "e62d48b4",
   "metadata": {},
   "source": [
    "# Correlation And Covariance"
   ]
  },
  {
   "cell_type": "code",
   "execution_count": 1,
   "id": "539d12cb",
   "metadata": {},
   "outputs": [],
   "source": [
    "import pandas as pd\n",
    "import numpy as np\n",
    "import seaborn as sns\n",
    "import matplotlib.pyplot as plt"
   ]
  },
  {
   "cell_type": "code",
   "execution_count": 2,
   "id": "551aa8ac",
   "metadata": {},
   "outputs": [
    {
     "name": "stdout",
     "output_type": "stream",
     "text": [
      "First 5 rows of dataset:\n",
      "\n",
      "   total_bill   tip     sex smoker  day    time  size\n",
      "0       16.99  1.01  Female     No  Sun  Dinner     2\n",
      "1       10.34  1.66    Male     No  Sun  Dinner     3\n",
      "2       21.01  3.50    Male     No  Sun  Dinner     3\n",
      "3       23.68  3.31    Male     No  Sun  Dinner     2\n",
      "4       24.59  3.61  Female     No  Sun  Dinner     4\n"
     ]
    }
   ],
   "source": [
    "# Using the 'tips' dataset from Seaborn\n",
    "df = sns.load_dataset(\"tips\")\n",
    "print(\"First 5 rows of dataset:\")\n",
    "print()\n",
    "print(df.head())"
   ]
  },
  {
   "cell_type": "markdown",
   "id": "546eb067",
   "metadata": {},
   "source": [
    "## Covariance Calculation"
   ]
  },
  {
   "cell_type": "code",
   "execution_count": 3,
   "id": "fdeb4830",
   "metadata": {},
   "outputs": [
    {
     "name": "stdout",
     "output_type": "stream",
     "text": [
      "Covariance Matrix:\n",
      "             total_bill       tip      size\n",
      "total_bill   79.252939  8.323502  5.065983\n",
      "tip           8.323502  1.914455  0.643906\n",
      "size          5.065983  0.643906  0.904591\n"
     ]
    }
   ],
   "source": [
    "# Formula: Cov(X, Y) = Σ (Xi - X̄)(Yi - Ȳ) / (n - 1)\n",
    "\n",
    "cov_matrix = df.cov(numeric_only=True)\n",
    "print(\"Covariance Matrix:\\n\", cov_matrix)\n"
   ]
  },
  {
   "cell_type": "markdown",
   "id": "4c006ad9",
   "metadata": {},
   "source": [
    "## Correlation Calculation"
   ]
  },
  {
   "cell_type": "code",
   "execution_count": 4,
   "id": "a0c66167",
   "metadata": {},
   "outputs": [
    {
     "name": "stdout",
     "output_type": "stream",
     "text": [
      "Correlation Matrix:\n",
      "             total_bill       tip      size\n",
      "total_bill    1.000000  0.675734  0.598315\n",
      "tip           0.675734  1.000000  0.489299\n",
      "size          0.598315  0.489299  1.000000\n"
     ]
    }
   ],
   "source": [
    "# Formula: r = Cov(X, Y) / (σX * σY)\n",
    "corr_matrix = df.corr(numeric_only=True)\n",
    "print(\"Correlation Matrix:\\n\", corr_matrix)"
   ]
  },
  {
   "cell_type": "markdown",
   "id": "4ca021f0",
   "metadata": {},
   "source": [
    "## Visualizing Correlation Matrix"
   ]
  },
  {
   "cell_type": "code",
   "execution_count": 5,
   "id": "5febc7d7",
   "metadata": {},
   "outputs": [
    {
     "data": {
      "image/png": "[encoded data removed]",
      "text/plain": [
       "<Figure size 800x600 with 2 Axes>"
      ]
     },
     "metadata": {},
     "output_type": "display_data"
    }
   ],
   "source": [
    "plt.figure(figsize=(8,6))\n",
    "sns.heatmap(corr_matrix, annot=True, cmap=\"coolwarm\", center=0)\n",
    "plt.title(\"Correlation Matrix Heatmap\")\n",
    "plt.show()"
   ]
  },
  {
   "cell_type": "markdown",
   "id": "28af709d",
   "metadata": {},
   "source": [
    "## Correlation with Target Variable Example"
   ]
  },
  {
   "cell_type": "code",
   "execution_count": 6,
   "id": "0b9b3da5",
   "metadata": {},
   "outputs": [
    {
     "name": "stdout",
     "output_type": "stream",
     "text": [
      "Correlation with total_bill:\n",
      " total_bill    1.000000\n",
      "tip           0.675734\n",
      "size          0.598315\n",
      "Name: total_bill, dtype: float64\n"
     ]
    }
   ],
   "source": [
    "# Example: Correlation with 'total_bill'\n",
    "target_corr = corr_matrix[\"total_bill\"].sort_values(ascending=False)\n",
    "print(\"Correlation with total_bill:\\n\", target_corr)"
   ]
  }
 ],
 "metadata": {
  "kernelspec": {
   "display_name": "Python 3",
   "language": "python",
   "name": "python3"
  },
  "language_info": {
   "codemirror_mode": {
    "name": "ipython",
    "version": 3
   },
   "file_extension": ".py",
   "mimetype": "text/x-python",
   "name": "python",
   "nbconvert_exporter": "python",
   "pygments_lexer": "ipython3",
   "version": "3.11.9"
  }
 },
 "nbformat": 4,
 "nbformat_minor": 5
}
