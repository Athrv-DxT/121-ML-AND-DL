{
 "cells": [
  {
   "cell_type": "markdown",
   "id": "1d968267",
   "metadata": {},
   "source": [
    "# Linear Algebra Recap"
   ]
  },
  {
   "cell_type": "markdown",
   "id": "03223802",
   "metadata": {
    "vscode": {
     "languageId": "plaintext"
    }
   },
   "source": [
    "### A quick recaap of all the concepts learned within these 11 days in Linear Algebra"
   ]
  },
  {
   "cell_type": "code",
   "execution_count": 5,
   "id": "ee4ff416",
   "metadata": {},
   "outputs": [
    {
     "name": "stderr",
     "output_type": "stream",
     "text": [
      "\n",
      "[notice] A new release of pip is available: 24.3.1 -> 25.2\n",
      "[notice] To update, run: C:\\Users\\ASUS\\AppData\\Local\\Microsoft\\WindowsApps\\PythonSoftwareFoundation.Python.3.11_qbz5n2kfra8p0\\python.exe -m pip install --upgrade pip\n"
     ]
    },
    {
     "name": "stdout",
     "output_type": "stream",
     "text": [
      "Collecting sympy\n",
      "  Downloading sympy-1.14.0-py3-none-any.whl.metadata (12 kB)\n",
      "Collecting mpmath<1.4,>=1.1.0 (from sympy)\n",
      "  Downloading mpmath-1.3.0-py3-none-any.whl.metadata (8.6 kB)\n",
      "Downloading sympy-1.14.0-py3-none-any.whl (6.3 MB)\n",
      "   ---------------------------------------- 0.0/6.3 MB ? eta -:--:--\n",
      "   ---------------------------------------- 0.0/6.3 MB ? eta -:--:--\n",
      "   - -------------------------------------- 0.3/6.3 MB ? eta -:--:--\n",
      "   ---- ----------------------------------- 0.8/6.3 MB 2.2 MB/s eta 0:00:03\n",
      "   -------- ------------------------------- 1.3/6.3 MB 2.3 MB/s eta 0:00:03\n",
      "   --------- ------------------------------ 1.6/6.3 MB 2.1 MB/s eta 0:00:03\n",
      "   -------------- ------------------------- 2.4/6.3 MB 2.3 MB/s eta 0:00:02\n",
      "   ------------------ --------------------- 2.9/6.3 MB 2.4 MB/s eta 0:00:02\n",
      "   ------------------- -------------------- 3.1/6.3 MB 2.2 MB/s eta 0:00:02\n",
      "   --------------------- ------------------ 3.4/6.3 MB 2.2 MB/s eta 0:00:02\n",
      "   ----------------------- ---------------- 3.7/6.3 MB 2.1 MB/s eta 0:00:02\n",
      "   ------------------------ --------------- 3.9/6.3 MB 1.9 MB/s eta 0:00:02\n",
      "   -------------------------- ------------- 4.2/6.3 MB 1.8 MB/s eta 0:00:02\n",
      "   ---------------------------- ----------- 4.5/6.3 MB 1.8 MB/s eta 0:00:02\n",
      "   ---------------------------- ----------- 4.5/6.3 MB 1.8 MB/s eta 0:00:02\n",
      "   ---------------------------- ----------- 4.5/6.3 MB 1.8 MB/s eta 0:00:02\n",
      "   ----------------------------- ---------- 4.7/6.3 MB 1.5 MB/s eta 0:00:02\n",
      "   ----------------------------- ---------- 4.7/6.3 MB 1.5 MB/s eta 0:00:02\n",
      "   ------------------------------- -------- 5.0/6.3 MB 1.4 MB/s eta 0:00:01\n",
      "   --------------------------------- ------ 5.2/6.3 MB 1.4 MB/s eta 0:00:01\n",
      "   ---------------------------------- ----- 5.5/6.3 MB 1.4 MB/s eta 0:00:01\n",
      "   ------------------------------------ --- 5.8/6.3 MB 1.3 MB/s eta 0:00:01\n",
      "   ------------------------------------ --- 5.8/6.3 MB 1.3 MB/s eta 0:00:01\n",
      "   -------------------------------------- - 6.0/6.3 MB 1.3 MB/s eta 0:00:01\n",
      "   ---------------------------------------- 6.3/6.3 MB 1.3 MB/s eta 0:00:00\n",
      "Downloading mpmath-1.3.0-py3-none-any.whl (536 kB)\n",
      "   ---------------------------------------- 0.0/536.2 kB ? eta -:--:--\n",
      "   ---------------------------------------- 0.0/536.2 kB ? eta -:--:--\n",
      "   ---------------------------------------  524.3/536.2 kB 1.4 MB/s eta 0:00:01\n",
      "   ---------------------------------------- 536.2/536.2 kB 1.4 MB/s eta 0:00:00\n",
      "Installing collected packages: mpmath, sympy\n",
      "Successfully installed mpmath-1.3.0 sympy-1.14.0\n"
     ]
    }
   ],
   "source": [
    "!pip install sympy\n",
    "import numpy as np \n",
    "import pandas as pd\n",
    "import scipy.linalg as la\n",
    "import sympy as sp\n"
   ]
  },
  {
   "cell_type": "code",
   "execution_count": 7,
   "id": "4e3842bc",
   "metadata": {},
   "outputs": [
    {
     "name": "stdout",
     "output_type": "stream",
     "text": [
      "Matrix Addition:\n",
      " [[3 2]\n",
      " [4 7]]\n",
      "\n",
      "Matrix Multiplication:\n",
      " [[ 4  6]\n",
      " [10 12]]\n",
      "\n",
      "Transpose of A:\n",
      " [[1 3]\n",
      " [2 4]]\n",
      "\n",
      "Rank of A: 2\n",
      "\n",
      "Eigenvalues:\n",
      " [-0.37228132  5.37228132]\n",
      "Eigenvectors:\n",
      " [[-0.82456484 -0.41597356]\n",
      " [ 0.56576746 -0.90937671]]\n",
      "\n",
      "Cholesky Decomposition L:\n",
      " [[2.         0.        ]\n",
      " [1.         1.41421356]]\n",
      "\n",
      "L:\n",
      " [[1.  0. ]\n",
      " [0.5 1. ]]\n",
      "U:\n",
      " [[4. 2.]\n",
      " [0. 2.]]\n",
      "\n",
      "Q:\n",
      " [[-0.89442719 -0.4472136 ]\n",
      " [-0.4472136   0.89442719]]\n",
      "R:\n",
      " [[-4.47213595 -3.13049517]\n",
      " [ 0.          1.78885438]]\n",
      "\n",
      "U:\n",
      " [[-0.78820544 -0.61541221]\n",
      " [-0.61541221  0.78820544]]\n",
      "Singular Values:\n",
      " [5.56155281 1.43844719]\n",
      "VT:\n",
      " [[-0.78820544 -0.61541221]\n",
      " [-0.61541221  0.78820544]]\n",
      "\n",
      "MSE: 0.375\n"
     ]
    },
    {
     "data": {
      "text/plain": [
       "[2*x, 2*y]"
      ]
     },
     "execution_count": 7,
     "metadata": {},
     "output_type": "execute_result"
    }
   ],
   "source": [
    "#Matrix Operations\n",
    "A = np.array([[1, 2], [3, 4]])\n",
    "B = np.array([[2, 0], [1, 3]])\n",
    "\n",
    "# Matrix addition, multiplication, transpose\n",
    "add_AB = A + B\n",
    "mul_AB = A @ B\n",
    "A_T = A.T\n",
    "\n",
    "print(\"Matrix Addition:\\n\", add_AB)\n",
    "print()\n",
    "print(\"Matrix Multiplication:\\n\", mul_AB)\n",
    "print()\n",
    "print(\"Transpose of A:\\n\", A_T)\n",
    "print()\n",
    "\n",
    "#Rank, Null Space\n",
    "rank_A = np.linalg.matrix_rank(A)\n",
    "print(\"Rank of A:\", rank_A)\n",
    "print()\n",
    "\n",
    "#Eigenvalues & PCA\n",
    "\n",
    "eigvals, eigvecs = np.linalg.eig(A)\n",
    "print(\"Eigenvalues:\\n\", eigvals)\n",
    "print(\"Eigenvectors:\\n\", eigvecs)\n",
    "print()\n",
    "\n",
    "# Cholesky Decomposition\n",
    "\n",
    "A = np.array([[4, 2], [2, 3]])\n",
    "L = np.linalg.cholesky(A)\n",
    "print(\"Cholesky Decomposition L:\\n\", L)\n",
    "print()\n",
    "\n",
    "#LU Decomposition\n",
    "\n",
    "P, L, U = la.lu(A)\n",
    "print(\"L:\\n\", L)\n",
    "print(\"U:\\n\", U)\n",
    "print()\n",
    "\n",
    "#QR decomposition\n",
    "\n",
    "Q, R = np.linalg.qr(A)\n",
    "print(\"Q:\\n\", Q)\n",
    "print(\"R:\\n\", R)\n",
    "print()\n",
    "\n",
    "#Singular Value Decomposition (SVD)\n",
    "\n",
    "U, S, VT = np.linalg.svd(A)\n",
    "print(\"U:\\n\", U)\n",
    "print(\"Singular Values:\\n\", S)\n",
    "print(\"VT:\\n\", VT)\n",
    "print()\n",
    "\n",
    "# Loss Functions- Mean Squared Error (MSE) \n",
    "\n",
    "y = np.array([3, -0.5, 2, 7])\n",
    "y_pred = np.array([2.5, 0.0, 2, 8])\n",
    "mse = np.mean((y - y_pred)**2)\n",
    "print(\"MSE:\", mse)\n",
    "\n",
    "#Gradients And Jacobians\n",
    "\n",
    "x, y = sp.symbols('x y')\n",
    "f = x**2 + y**2\n",
    "grad_f = [sp.diff(f, var) for var in (x, y)]\n",
    "grad_f\n"
   ]
  },
  {
   "cell_type": "code",
   "execution_count": null,
   "id": "e168d213",
   "metadata": {},
   "outputs": [],
   "source": []
  }
 ],
 "metadata": {
  "kernelspec": {
   "display_name": "Python 3",
   "language": "python",
   "name": "python3"
  },
  "language_info": {
   "codemirror_mode": {
    "name": "ipython",
    "version": 3
   },
   "file_extension": ".py",
   "mimetype": "text/x-python",
   "name": "python",
   "nbconvert_exporter": "python",
   "pygments_lexer": "ipython3",
   "version": "3.11.9"
  }
 },
 "nbformat": 4,
 "nbformat_minor": 5
}
