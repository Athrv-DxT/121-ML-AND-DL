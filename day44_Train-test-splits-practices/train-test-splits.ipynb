{
 "cells": [
  {
   "cell_type": "markdown",
   "id": "77117aa6",
   "metadata": {},
   "source": [
    "# Train Test Splits "
   ]
  },
  {
   "cell_type": "code",
   "execution_count": 5,
   "id": "90772ae4",
   "metadata": {},
   "outputs": [],
   "source": [
    "import pandas as pd\n",
    "import numpy as np\n",
    "from sklearn.datasets import load_iris\n",
    "from sklearn.model_selection import train_test_split\n",
    "from sklearn.ensemble import RandomForestClassifier\n",
    "from sklearn.metrics import accuracy_score\n",
    "from sklearn.preprocessing import StandardScaler"
   ]
  },
  {
   "cell_type": "code",
   "execution_count": 2,
   "id": "40237640",
   "metadata": {},
   "outputs": [
    {
     "name": "stdout",
     "output_type": "stream",
     "text": [
      "Dataset Shape: (150, 4)\n",
      "Class Distribution:\n",
      " target\n",
      "0    50\n",
      "1    50\n",
      "2    50\n",
      "Name: count, dtype: int64\n"
     ]
    }
   ],
   "source": [
    "iris = load_iris()\n",
    "X = pd.DataFrame(iris.data, columns=iris.feature_names)\n",
    "y = pd.Series(iris.target, name='target')\n",
    "\n",
    "print(\"Dataset Shape:\", X.shape)\n",
    "print(\"Class Distribution:\\n\", y.value_counts())\n"
   ]
  },
  {
   "cell_type": "markdown",
   "id": "42b83b8d",
   "metadata": {},
   "source": [
    "## Stratified Splitting"
   ]
  },
  {
   "cell_type": "code",
   "execution_count": 3,
   "id": "337b4011",
   "metadata": {},
   "outputs": [
    {
     "name": "stdout",
     "output_type": "stream",
     "text": [
      "\n",
      "Training set size: (120, 4)\n",
      "Test set size: (30, 4)\n",
      "Training class distribution:\n",
      " target\n",
      "0    0.333333\n",
      "2    0.333333\n",
      "1    0.333333\n",
      "Name: proportion, dtype: float64\n",
      "Test class distribution:\n",
      " target\n",
      "0    0.333333\n",
      "2    0.333333\n",
      "1    0.333333\n",
      "Name: proportion, dtype: float64\n"
     ]
    }
   ],
   "source": [
    "X_train, X_test, y_train, y_test = train_test_split(\n",
    "    X, y, \n",
    "    test_size=0.2,\n",
    "    stratify=y,\n",
    "    random_state=42  # ensures reproducibility\n",
    ")\n",
    "\n",
    "print(\"\\nTraining set size:\", X_train.shape)\n",
    "print(\"Test set size:\", X_test.shape)\n",
    "print(\"Training class distribution:\\n\", y_train.value_counts(normalize=True))\n",
    "print(\"Test class distribution:\\n\", y_test.value_counts(normalize=True))"
   ]
  },
  {
   "cell_type": "markdown",
   "id": "4081e80e",
   "metadata": {},
   "source": [
    "## Model Evaluation Consistency"
   ]
  },
  {
   "cell_type": "code",
   "execution_count": 4,
   "id": "b0871cfd",
   "metadata": {},
   "outputs": [
    {
     "name": "stdout",
     "output_type": "stream",
     "text": [
      "\n",
      "Model Accuracy on Test Set: 0.9\n"
     ]
    }
   ],
   "source": [
    "model = RandomForestClassifier(random_state=42)\n",
    "model.fit(X_train, y_train)\n",
    "y_pred = model.predict(X_test)\n",
    "\n",
    "accuracy = accuracy_score(y_test, y_pred)\n",
    "print(\"\\nModel Accuracy on Test Set:\", round(accuracy, 4))"
   ]
  },
  {
   "cell_type": "markdown",
   "id": "497e64d8",
   "metadata": {},
   "source": [
    "## Avoiding Data Leakage"
   ]
  },
  {
   "cell_type": "code",
   "execution_count": null,
   "id": "ea01cd3f",
   "metadata": {},
   "outputs": [
    {
     "name": "stdout",
     "output_type": "stream",
     "text": [
      "Accuracy after proper scaling: 0.9\n"
     ]
    }
   ],
   "source": [
    "scaler = StandardScaler()\n",
    "X_train_scaled = scaler.fit_transform(X_train)\n",
    "X_test_scaled = scaler.transform(X_test)\n",
    "\n",
    "model_scaled = RandomForestClassifier(random_state=42)\n",
    "model_scaled.fit(X_train_scaled, y_train)\n",
    "y_pred_scaled = model_scaled.predict(X_test_scaled)\n",
    "\n",
    "print(\"Accuracy after proper scaling:\", round(accuracy_score(y_test, y_pred_scaled), 4))"
   ]
  }
 ],
 "metadata": {
  "kernelspec": {
   "display_name": "Python 3",
   "language": "python",
   "name": "python3"
  },
  "language_info": {
   "codemirror_mode": {
    "name": "ipython",
    "version": 3
   },
   "file_extension": ".py",
   "mimetype": "text/x-python",
   "name": "python",
   "nbconvert_exporter": "python",
   "pygments_lexer": "ipython3",
   "version": "3.11.9"
  }
 },
 "nbformat": 4,
 "nbformat_minor": 5
}
