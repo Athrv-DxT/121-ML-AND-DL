{
 "cells": [
  {
   "cell_type": "code",
   "execution_count": 1,
   "id": "c5c5c74a-d5fe-4ad5-ad09-347e657e1ecb",
   "metadata": {},
   "outputs": [],
   "source": [
    "import numpy as np"
   ]
  },
  {
   "cell_type": "markdown",
   "id": "1f5e5a86-af57-468a-8c48-a8eedb5f8a8c",
   "metadata": {},
   "source": [
    "## Vector Norms: \n",
    "\n",
    "* L1 (Manhattan Distance)\n",
    "* L2 (Euclidean Distance)\n",
    "* Lp (Generalization norm)"
   ]
  },
  {
   "cell_type": "code",
   "execution_count": 3,
   "id": "c768bc3a-0a6f-4792-bfe7-bb817bf09921",
   "metadata": {},
   "outputs": [
    {
     "name": "stdout",
     "output_type": "stream",
     "text": [
      " L1 Norm of [ 2 14  5  6  8] : 35\n",
      "\n",
      " L2 Norm of [ 2 14  5  6  8] : 18.027756377319946\n",
      "\n",
      " Lp Norm of [ 2 14  5  6  8] : 16.247889447678435\n"
     ]
    }
   ],
   "source": [
    "\"\"\"\n",
    "Consider a vector V with components v1,v2,v3.........vn\n",
    "\n",
    "V = (v1,v2,v3......vn)\n",
    "\"\"\"\n",
    "\n",
    "V=np.array([2,14,5,6,8])\n",
    "\n",
    "\n",
    "#L1 norm -> Sum of absolute vallues of all the components\n",
    "\n",
    "L1 = np.sum(np.abs(V)) #sum of absolute values of V\n",
    "\n",
    "print(f\" L1 Norm of {V} : {L1}\")\n",
    "print()\n",
    "\n",
    "\n",
    "#L2 norm -> Square root of sum of squares of all components (pythagoras formula)\n",
    "\n",
    "L2 = np.sqrt(np.sum(V**2))\n",
    "\n",
    "print(f\" L2 Norm of {V} : {L2}\")\n",
    "print()\n",
    "\n",
    "#Lp norm -> generalisation norm , depends on paramter p  \n",
    "#||V||_p = (sum(|Vi|^p))^(1/p)\n",
    "\n",
    "p=2.5\n",
    "Lp = np.sum(np.abs(V)**p)**(1/p)\n",
    "print(f\" Lp Norm of {V} : {Lp}\")"
   ]
  },
  {
   "cell_type": "markdown",
   "id": "62df7b6c-b0a6-4d6e-91eb-c5001a00f918",
   "metadata": {},
   "source": [
    "## Vector Spaces and Subspaces"
   ]
  },
  {
   "cell_type": "code",
   "execution_count": 5,
   "id": "dd5f5112-800a-40d2-a1b5-58a787fa2633",
   "metadata": {},
   "outputs": [
    {
     "name": "stdout",
     "output_type": "stream",
     "text": [
      "Matrix A:\n",
      " [[1 2 1]\n",
      " [2 4 0]\n",
      " [3 6 1]]\n",
      "Rank: 2\n",
      "Independent? False\n"
     ]
    }
   ],
   "source": [
    "v1 = np.array([1, 2, 3])\n",
    "v2 = np.array([2, 4, 6])  \n",
    "v3 = np.array([1, 0, 1])\n",
    "\n",
    "A = np.column_stack((v1, v2, v3)) #used to stack vectors in a coumn matrix\n",
    "\n",
    "\n",
    "rank = np.linalg.matrix_rank(A) # Rank = number of independent columns\n",
    "\n",
    "print(\"Matrix A:\\n\", A)\n",
    "print(\"Rank:\", rank)\n",
    "print(\"Independent?\", rank == A.shape[1])\n",
    "\n",
    "#independent is false because v2 is a multiple of v1, that is the two vectors are dependent on each other\n"
   ]
  },
  {
   "cell_type": "markdown",
   "id": "7ba28102-fdfb-4aac-9362-a6a3a6bab978",
   "metadata": {},
   "source": [
    "## Basis "
   ]
  },
  {
   "cell_type": "code",
   "execution_count": 8,
   "id": "59a12325-7817-4768-86b9-d90fc2072d1f",
   "metadata": {},
   "outputs": [
    {
     "name": "stdout",
     "output_type": "stream",
     "text": [
      "Matrix B:\n",
      " [[1 2 0]\n",
      " [2 4 0]\n",
      " [3 6 1]]\n",
      "\n",
      "Rank: 2\n",
      "\n",
      "The vectors form a basis of a 2D subspcae inside R**3\n"
     ]
    }
   ],
   "source": [
    "B = np.column_stack(([1,2,3], [2,4,6], [0,0,1]))\n",
    "print(\"Matrix B:\\n\", B)\n",
    "print()\n",
    "\n",
    "rank = np.linalg.matrix_rank(B)\n",
    "print(\"Rank:\", rank)\n",
    "print()\n",
    "\n",
    "if rank == 3:\n",
    "    print(\"The vectors form a basis for R**3\")\n",
    "else:\n",
    "    print(f\"The vectors form a basis of a {rank}D subspcae inside R**3\")\n",
    "    \n"
   ]
  },
  {
   "cell_type": "markdown",
   "id": "3029e8e3-405f-4711-963a-5a4c64d06d9e",
   "metadata": {},
   "source": [
    "## Orthogonality"
   ]
  },
  {
   "cell_type": "code",
   "execution_count": 10,
   "id": "1c2ea128-7c78-4ded-ba75-38ab411668d9",
   "metadata": {},
   "outputs": [
    {
     "name": "stdout",
     "output_type": "stream",
     "text": [
      "Dot product: 0\n",
      "\n",
      "u and v are orthogonal\n"
     ]
    }
   ],
   "source": [
    "\"\"\"\n",
    "Dot product of two vectors is 0\n",
    "u.v=0\n",
    "\"\"\"\n",
    "\n",
    "u = np.array([1, -1, 0])\n",
    "v = np.array([1, 1, 0])\n",
    "\n",
    "dot = np.dot(u, v)\n",
    "print(\"Dot product:\", dot)\n",
    "print()\n",
    "\n",
    "if dot == 0:\n",
    "    print(\"u and v are orthogonal\")\n",
    "else:\n",
    "    print(\"u and v are not orthogonal\")"
   ]
  },
  {
   "cell_type": "markdown",
   "id": "83fa5027-15b4-4e94-85ba-793bdb6a161c",
   "metadata": {},
   "source": [
    "## Vector Projection"
   ]
  },
  {
   "cell_type": "code",
   "execution_count": 12,
   "id": "f9454217-1d73-4607-b393-15daa65c1d88",
   "metadata": {},
   "outputs": [
    {
     "name": "stdout",
     "output_type": "stream",
     "text": [
      "Projection of u onto v: [2.2 4.4]\n"
     ]
    }
   ],
   "source": [
    "\"\"\"\n",
    "projection of u onto v -> ((u.v)/v.v)*v\n",
    "\"\"\"\n",
    "\n",
    "u = np.array([3, 4])\n",
    "v = np.array([1, 2])\n",
    "\n",
    "proj = (np.dot(u, v) / np.dot(v, v)) * v\n",
    "print(\"Projection of u onto v:\", proj)\n"
   ]
  },
  {
   "cell_type": "markdown",
   "id": "24a540c8-1f57-4e45-970c-a8a66731e6c4",
   "metadata": {},
   "source": [
    "## Gram–Schmidt Orthogonalization\n",
    "\n",
    "* v1,v2,v3....vn\n",
    "* First orthogonal vector u1=v1\n",
    "* subtract out the projection of v2 onto u1 :\n",
    "  * u2 = v2 - projection (v2 onto u1)\n",
    "* subtract out the projection of v3 onto u1 and u2 :\n",
    "  * u3 = v3 - projection (v3 onto u1) - projection (v3 onto u2)\n",
    "* Continue until all are orthogonal\n",
    "* Normalize if you want orthonormal basis"
   ]
  },
  {
   "cell_type": "code",
   "execution_count": 13,
   "id": "cdbd1137-e173-466f-9ec8-473c05412bbb",
   "metadata": {},
   "outputs": [
    {
     "name": "stdout",
     "output_type": "stream",
     "text": [
      "Orthogonal basis:\n",
      "[1. 1. 0.]\n",
      "[ 0.5 -0.5  1. ]\n",
      "[-0.66666667  0.66666667  0.66666667]\n",
      "\n",
      "\n",
      "Orthonormal basis:\n",
      "[0.70710678 0.70710678 0.        ]\n",
      "[ 0.40824829 -0.40824829  0.81649658]\n",
      "[-0.57735027  0.57735027  0.57735027]\n"
     ]
    }
   ],
   "source": [
    "def gram_schmidt(vectors):\n",
    "    vectors = [np.array(v, dtype=float) for v in vectors]\n",
    "    ortho = []\n",
    "    \n",
    "    for v in vectors:\n",
    "        for u in ortho:\n",
    "            v = v - (np.dot(v, u) / np.dot(u, u)) * u\n",
    "        ortho.append(v)\n",
    "    \n",
    "    ortho_norm = [u / np.linalg.norm(u) for u in ortho] # Normalize (orthonormal basis)\n",
    "    return ortho, ortho_norm\n",
    "\n",
    "V = [[1, 1, 0], [1, 0, 1], [0, 1, 1]]\n",
    "U, E = gram_schmidt(V)\n",
    "\n",
    "print(\"Orthogonal basis:\")\n",
    "for vec in U:\n",
    "    print(vec)\n",
    "print()\n",
    "\n",
    "print(\"\\nOrthonormal basis:\")\n",
    "for vec in E:\n",
    "    print(vec)\n"
   ]
  }
 ],
 "metadata": {
  "kernelspec": {
   "display_name": "Python 3 (ipykernel)",
   "language": "python",
   "name": "python3"
  },
  "language_info": {
   "codemirror_mode": {
    "name": "ipython",
    "version": 3
   },
   "file_extension": ".py",
   "mimetype": "text/x-python",
   "name": "python",
   "nbconvert_exporter": "python",
   "pygments_lexer": "ipython3",
   "version": "3.12.6"
  }
 },
 "nbformat": 4,
 "nbformat_minor": 5
}
