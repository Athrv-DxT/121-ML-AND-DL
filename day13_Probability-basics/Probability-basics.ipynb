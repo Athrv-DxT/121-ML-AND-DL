{
 "cells": [
  {
   "cell_type": "markdown",
   "id": "f4335cee",
   "metadata": {},
   "source": [
    "# Probability"
   ]
  },
  {
   "cell_type": "code",
   "execution_count": 2,
   "id": "a1b3a771",
   "metadata": {},
   "outputs": [],
   "source": [
    "import numpy as np\n",
    "import matplotlib.pyplot as plt"
   ]
  },
  {
   "cell_type": "code",
   "execution_count": 3,
   "id": "aa378b19",
   "metadata": {},
   "outputs": [
    {
     "name": "stdout",
     "output_type": "stream",
     "text": [
      "P(A): 0.16666666666666666\n",
      "\n",
      "P(A'): 0.8333333333333334\n",
      "\n",
      "P(A ∪ B): 0.6666666666666667\n",
      "\n",
      "P(A|B): 0.6666666666666666\n",
      "\n"
     ]
    }
   ],
   "source": [
    "# Basic Probability\n",
    "\n",
    "# Formula: P(A) = (Number of favorable outcomes) / (Total outcomes)\n",
    "\n",
    "total_outcomes = 6  # e.g., rolling a dice\n",
    "favorable_outcomes = 1  # event: getting a '3'\n",
    "P_A = favorable_outcomes / total_outcomes\n",
    "print(\"P(A):\", P_A)\n",
    "print()\n",
    "\n",
    "# Complementary Events\n",
    "# Formula: P(A') = 1 - P(A)\n",
    "\n",
    "P_A_complement = 1 - P_A\n",
    "print(\"P(A'):\", P_A_complement)\n",
    "print()\n",
    "\n",
    "# Union & Intersection\n",
    "\n",
    "# Formula: P(A ∪ B) = P(A) + P(B) - P(A ∩ B)\n",
    "\n",
    "# Example: A = getting even number, B = getting > 3\n",
    "A = {2, 4, 6}\n",
    "B = {4, 5, 6}\n",
    "\n",
    "P_A = len(A)/6\n",
    "P_B = len(B)/6\n",
    "\n",
    "P_A_intersect_B = len(A.intersection(B))/6\n",
    "P_A_union_B = P_A + P_B - P_A_intersect_B\n",
    "print(\"P(A ∪ B):\", P_A_union_B)\n",
    "print()\n",
    "\n",
    "# Conditional Probability\n",
    "\n",
    "# Formula: P(A|B) = P(A ∩ B) / P(B)\n",
    "\n",
    "P_A_given_B = P_A_intersect_B / P_B\n",
    "print(\"P(A|B):\", P_A_given_B)\n",
    "print()\n",
    "\n"
   ]
  },
  {
   "cell_type": "markdown",
   "id": "a7160ae6",
   "metadata": {},
   "source": [
    "## Simulation : Coin Toss"
   ]
  },
  {
   "cell_type": "code",
   "execution_count": 4,
   "id": "d48968ac",
   "metadata": {},
   "outputs": [
    {
     "name": "stdout",
     "output_type": "stream",
     "text": [
      "Simulated P(Heads): 0.503\n"
     ]
    }
   ],
   "source": [
    "# Formula: P(Heads) ≈ (Number of heads) / (Total tosses)\n",
    "\n",
    "np.random.seed(42)\n",
    "tosses = np.random.choice([\"H\", \"T\"], size=1000, p=[0.5, 0.5])\n",
    "\n",
    "heads_count = np.sum(tosses == \"H\")\n",
    "P_heads = heads_count / len(tosses)\n",
    "print(\"Simulated P(Heads):\", P_heads)\n",
    "\n"
   ]
  },
  {
   "cell_type": "markdown",
   "id": "618658f7",
   "metadata": {},
   "source": [
    "## Visualization"
   ]
  },
  {
   "cell_type": "code",
   "execution_count": 5,
   "id": "9fc21f9e",
   "metadata": {},
   "outputs": [
    {
     "data": {
      "image/png": "[encoded data removed]",
      "text/plain": [
       "<Figure size 640x480 with 1 Axes>"
      ]
     },
     "metadata": {},
     "output_type": "display_data"
    }
   ],
   "source": [
    "plt.bar([\"Heads\", \"Tails\"], [heads_count, len(tosses)-heads_count], color=['blue','orange'])\n",
    "plt.title(\"Coin Toss Simulation (1000 tosses)\")\n",
    "plt.ylabel(\"Count\")\n",
    "plt.show()"
   ]
  },
  {
   "cell_type": "code",
   "execution_count": 6,
   "id": "0c7c58ab",
   "metadata": {},
   "outputs": [
    {
     "name": "stdout",
     "output_type": "stream",
     "text": [
      "P(A) using Law of Total Probability: 0.42\n"
     ]
    }
   ],
   "source": [
    "# Law of Total Probability\n",
    "\n",
    "\n",
    "# Formula: P(A) = P(B1)P(A|B1) + P(B2)P(A|B2)\n",
    "\n",
    "P_B1 = 0.4\n",
    "P_B2 = 0.6\n",
    "P_A_given_B1 = 0.3\n",
    "P_A_given_B2 = 0.5\n",
    "\n",
    "P_A_total = P_B1*P_A_given_B1 + P_B2*P_A_given_B2\n",
    "print(\"P(A) using Law of Total Probability:\", P_A_total)"
   ]
  }
 ],
 "metadata": {
  "kernelspec": {
   "display_name": "Python 3",
   "language": "python",
   "name": "python3"
  },
  "language_info": {
   "codemirror_mode": {
    "name": "ipython",
    "version": 3
   },
   "file_extension": ".py",
   "mimetype": "text/x-python",
   "name": "python",
   "nbconvert_exporter": "python",
   "pygments_lexer": "ipython3",
   "version": "3.11.9"
  }
 },
 "nbformat": 4,
 "nbformat_minor": 5
}
